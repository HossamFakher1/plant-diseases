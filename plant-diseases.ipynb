{
 "cells": [
  {
   "cell_type": "code",
   "execution_count": 1,
   "id": "molecular-pharmacology",
   "metadata": {
    "_cell_guid": "b1076dfc-b9ad-4769-8c92-a6c4dae69d19",
    "_uuid": "8f2839f25d086af736a60e9eeb907d3b93b6e0e5",
    "execution": {
     "iopub.execute_input": "2021-05-03T19:27:20.522068Z",
     "iopub.status.busy": "2021-05-03T19:27:20.519867Z",
     "iopub.status.idle": "2021-05-03T19:27:20.655609Z",
     "shell.execute_reply": "2021-05-03T19:27:20.655020Z"
    },
    "papermill": {
     "duration": 0.155694,
     "end_time": "2021-05-03T19:27:20.655766",
     "exception": false,
     "start_time": "2021-05-03T19:27:20.500072",
     "status": "completed"
    },
    "tags": []
   },
   "outputs": [],
   "source": [
    "import os\n",
    "import cv2 as cv\n",
    "import glob as gb\n",
    "import numpy as np\n",
    "import pandas as pd\n",
    "import matplotlib.pyplot as plt"
   ]
  },
  {
   "cell_type": "code",
   "execution_count": 2,
   "id": "photographic-bibliography",
   "metadata": {
    "execution": {
     "iopub.execute_input": "2021-05-03T19:27:20.683625Z",
     "iopub.status.busy": "2021-05-03T19:27:20.682153Z",
     "iopub.status.idle": "2021-05-03T19:27:20.684524Z",
     "shell.execute_reply": "2021-05-03T19:27:20.684929Z"
    },
    "papermill": {
     "duration": 0.017415,
     "end_time": "2021-05-03T19:27:20.685046",
     "exception": false,
     "start_time": "2021-05-03T19:27:20.667631",
     "status": "completed"
    },
    "tags": []
   },
   "outputs": [],
   "source": [
    "train_dir='../input/new-plant-diseases-dataset/New Plant Diseases Dataset(Augmented)/New Plant Diseases Dataset(Augmented)/train'\n",
    "valid_dir='../input/new-plant-diseases-dataset/New Plant Diseases Dataset(Augmented)/New Plant Diseases Dataset(Augmented)/valid'\n",
    "test_dir='../input/new-plant-diseases-dataset/test/test'"
   ]
  },
  {
   "cell_type": "code",
   "execution_count": 3,
   "id": "expected-powder",
   "metadata": {
    "execution": {
     "iopub.execute_input": "2021-05-03T19:27:20.710173Z",
     "iopub.status.busy": "2021-05-03T19:27:20.709680Z",
     "iopub.status.idle": "2021-05-03T19:27:20.713474Z",
     "shell.execute_reply": "2021-05-03T19:27:20.713039Z"
    },
    "papermill": {
     "duration": 0.01748,
     "end_time": "2021-05-03T19:27:20.713572",
     "exception": false,
     "start_time": "2021-05-03T19:27:20.696092",
     "status": "completed"
    },
    "tags": []
   },
   "outputs": [],
   "source": [
    "Size=150\n",
    "X_test=[]\n",
    "y_test=[]"
   ]
  },
  {
   "cell_type": "code",
   "execution_count": 4,
   "id": "lovely-promise",
   "metadata": {
    "execution": {
     "iopub.execute_input": "2021-05-03T19:27:20.739720Z",
     "iopub.status.busy": "2021-05-03T19:27:20.739038Z",
     "iopub.status.idle": "2021-05-03T19:28:28.307683Z",
     "shell.execute_reply": "2021-05-03T19:28:28.306765Z"
    },
    "papermill": {
     "duration": 67.583342,
     "end_time": "2021-05-03T19:28:28.307834",
     "exception": false,
     "start_time": "2021-05-03T19:27:20.724492",
     "status": "completed"
    },
    "tags": []
   },
   "outputs": [
    {
     "name": "stdout",
     "output_type": "stream",
     "text": [
      "Found 70295 files belonging to 38 classes.\n"
     ]
    }
   ],
   "source": [
    "from keras.preprocessing import image_dataset_from_directory\n",
    "training_ds=image_dataset_from_directory(\n",
    "    train_dir,\n",
    "    seed=42,\n",
    "    image_size=(Size,Size),\n",
    "    batch_size=64\n",
    ")"
   ]
  },
  {
   "cell_type": "code",
   "execution_count": 5,
   "id": "informal-origin",
   "metadata": {
    "execution": {
     "iopub.execute_input": "2021-05-03T19:28:28.334800Z",
     "iopub.status.busy": "2021-05-03T19:28:28.334004Z",
     "iopub.status.idle": "2021-05-03T19:28:33.041715Z",
     "shell.execute_reply": "2021-05-03T19:28:33.041250Z"
    },
    "papermill": {
     "duration": 4.722615,
     "end_time": "2021-05-03T19:28:33.041836",
     "exception": false,
     "start_time": "2021-05-03T19:28:28.319221",
     "status": "completed"
    },
    "tags": []
   },
   "outputs": [
    {
     "name": "stdout",
     "output_type": "stream",
     "text": [
      "Found 17572 files belonging to 38 classes.\n"
     ]
    }
   ],
   "source": [
    "from keras.preprocessing import image_dataset_from_directory\n",
    "validing_ds=image_dataset_from_directory(\n",
    "    valid_dir,\n",
    "    seed=42,\n",
    "    image_size=(Size,Size),\n",
    "    batch_size=64\n",
    ")"
   ]
  },
  {
   "cell_type": "code",
   "execution_count": 6,
   "id": "cosmetic-celebrity",
   "metadata": {
    "execution": {
     "iopub.execute_input": "2021-05-03T19:28:33.072944Z",
     "iopub.status.busy": "2021-05-03T19:28:33.072428Z",
     "iopub.status.idle": "2021-05-03T19:28:35.595227Z",
     "shell.execute_reply": "2021-05-03T19:28:35.594379Z"
    },
    "papermill": {
     "duration": 2.540923,
     "end_time": "2021-05-03T19:28:35.595389",
     "exception": false,
     "start_time": "2021-05-03T19:28:33.054466",
     "status": "completed"
    },
    "tags": []
   },
   "outputs": [],
   "source": [
    "X_test=[]\n",
    "for folder in os.listdir(test_dir):\n",
    "    files=gb.glob(test_dir+'/*.JPG')\n",
    "    for file in files :\n",
    "        img=cv.imread(file)\n",
    "        X_test.append(cv.resize(img,(Size,Size)))"
   ]
  },
  {
   "cell_type": "code",
   "execution_count": 7,
   "id": "provincial-lindsay",
   "metadata": {
    "execution": {
     "iopub.execute_input": "2021-05-03T19:28:35.623942Z",
     "iopub.status.busy": "2021-05-03T19:28:35.622837Z",
     "iopub.status.idle": "2021-05-03T19:28:35.650468Z",
     "shell.execute_reply": "2021-05-03T19:28:35.649734Z"
    },
    "papermill": {
     "duration": 0.042669,
     "end_time": "2021-05-03T19:28:35.650658",
     "exception": false,
     "start_time": "2021-05-03T19:28:35.607989",
     "status": "completed"
    },
    "tags": []
   },
   "outputs": [
    {
     "name": "stdout",
     "output_type": "stream",
     "text": [
      "(1089, 150, 150, 3)\n"
     ]
    }
   ],
   "source": [
    "X_test=np.array(X_test)\n",
    "print(X_test.shape)"
   ]
  },
  {
   "cell_type": "code",
   "execution_count": 8,
   "id": "honest-benefit",
   "metadata": {
    "execution": {
     "iopub.execute_input": "2021-05-03T19:28:35.680188Z",
     "iopub.status.busy": "2021-05-03T19:28:35.679223Z",
     "iopub.status.idle": "2021-05-03T19:28:35.859231Z",
     "shell.execute_reply": "2021-05-03T19:28:35.858789Z"
    },
    "papermill": {
     "duration": 0.195435,
     "end_time": "2021-05-03T19:28:35.859372",
     "exception": false,
     "start_time": "2021-05-03T19:28:35.663937",
     "status": "completed"
    },
    "tags": []
   },
   "outputs": [],
   "source": [
    "X_test=X_test/255.0"
   ]
  },
  {
   "cell_type": "code",
   "execution_count": 9,
   "id": "quiet-correlation",
   "metadata": {
    "execution": {
     "iopub.execute_input": "2021-05-03T19:28:35.888506Z",
     "iopub.status.busy": "2021-05-03T19:28:35.887956Z",
     "iopub.status.idle": "2021-05-03T19:28:35.891794Z",
     "shell.execute_reply": "2021-05-03T19:28:35.891399Z"
    },
    "papermill": {
     "duration": 0.020239,
     "end_time": "2021-05-03T19:28:35.891900",
     "exception": false,
     "start_time": "2021-05-03T19:28:35.871661",
     "status": "completed"
    },
    "tags": []
   },
   "outputs": [],
   "source": [
    "import keras\n",
    "from keras.layers import Flatten , Dense , Dropout , BatchNormalization , MaxPooling2D ,Conv2D\n",
    "from keras.models import Sequential\n",
    "from keras.callbacks import EarlyStopping \n",
    "#from keras.applications import vgg19"
   ]
  },
  {
   "cell_type": "code",
   "execution_count": 10,
   "id": "willing-egypt",
   "metadata": {
    "execution": {
     "iopub.execute_input": "2021-05-03T19:28:35.919485Z",
     "iopub.status.busy": "2021-05-03T19:28:35.918969Z",
     "iopub.status.idle": "2021-05-03T19:28:35.922714Z",
     "shell.execute_reply": "2021-05-03T19:28:35.922278Z"
    },
    "papermill": {
     "duration": 0.018953,
     "end_time": "2021-05-03T19:28:35.922821",
     "exception": false,
     "start_time": "2021-05-03T19:28:35.903868",
     "status": "completed"
    },
    "tags": []
   },
   "outputs": [],
   "source": [
    "callbacks=EarlyStopping(mode='max',patience=10,restore_best_weights=True)"
   ]
  },
  {
   "cell_type": "code",
   "execution_count": 11,
   "id": "colored-jackson",
   "metadata": {
    "execution": {
     "iopub.execute_input": "2021-05-03T19:28:35.952515Z",
     "iopub.status.busy": "2021-05-03T19:28:35.951961Z",
     "iopub.status.idle": "2021-05-03T19:28:36.061533Z",
     "shell.execute_reply": "2021-05-03T19:28:36.060626Z"
    },
    "papermill": {
     "duration": 0.12668,
     "end_time": "2021-05-03T19:28:36.061668",
     "exception": false,
     "start_time": "2021-05-03T19:28:35.934988",
     "status": "completed"
    },
    "tags": []
   },
   "outputs": [],
   "source": [
    "model=Sequential([\n",
    "                  Conv2D(32,3,activation='relu',kernel_initializer='he_normal',input_shape=(Size,Size,3)),\n",
    "                  MaxPooling2D(3),\n",
    "                  Conv2D(64,3,activation='relu',kernel_initializer='he_normal'),\n",
    "                  MaxPooling2D(3),\n",
    "                  #vgg19(include_top=False,input_shape=(Size,Size,3)),\n",
    "                  Flatten(),\n",
    "                  Dense(512,activation='relu'),\n",
    "                  Dropout(0.2),\n",
    "                  BatchNormalization(),\n",
    "                  Dense(128,activation='relu'),\n",
    "                  Dropout(0.2),\n",
    "                  BatchNormalization(),\n",
    "                  Dense(38,activation='softmax')\n",
    "])"
   ]
  },
  {
   "cell_type": "code",
   "execution_count": 12,
   "id": "proved-cleanup",
   "metadata": {
    "execution": {
     "iopub.execute_input": "2021-05-03T19:28:36.093040Z",
     "iopub.status.busy": "2021-05-03T19:28:36.092278Z",
     "iopub.status.idle": "2021-05-03T19:28:36.102510Z",
     "shell.execute_reply": "2021-05-03T19:28:36.102900Z"
    },
    "papermill": {
     "duration": 0.028364,
     "end_time": "2021-05-03T19:28:36.103032",
     "exception": false,
     "start_time": "2021-05-03T19:28:36.074668",
     "status": "completed"
    },
    "tags": []
   },
   "outputs": [],
   "source": [
    "model.compile(optimizer='adam',loss='sparse_categorical_crossentropy',metrics=['accuracy'])"
   ]
  },
  {
   "cell_type": "code",
   "execution_count": 13,
   "id": "breathing-archive",
   "metadata": {
    "execution": {
     "iopub.execute_input": "2021-05-03T19:28:36.131621Z",
     "iopub.status.busy": "2021-05-03T19:28:36.131037Z",
     "iopub.status.idle": "2021-05-03T20:04:57.901928Z",
     "shell.execute_reply": "2021-05-03T20:04:57.902552Z"
    },
    "papermill": {
     "duration": 2181.787308,
     "end_time": "2021-05-03T20:04:57.902804",
     "exception": false,
     "start_time": "2021-05-03T19:28:36.115496",
     "status": "completed"
    },
    "tags": []
   },
   "outputs": [
    {
     "name": "stdout",
     "output_type": "stream",
     "text": [
      "Epoch 1/20\n",
      "1099/1099 - 561s - loss: 1.7133 - accuracy: 0.5035 - val_loss: 1.3737 - val_accuracy: 0.5946\n",
      "Epoch 2/20\n",
      "1099/1099 - 153s - loss: 1.1623 - accuracy: 0.6439 - val_loss: 0.8025 - val_accuracy: 0.8048\n",
      "Epoch 3/20\n",
      "1099/1099 - 151s - loss: 0.7187 - accuracy: 0.7735 - val_loss: 1.0155 - val_accuracy: 0.8626\n",
      "Epoch 4/20\n",
      "1099/1099 - 153s - loss: 0.5910 - accuracy: 0.8114 - val_loss: 0.7559 - val_accuracy: 0.8679\n",
      "Epoch 5/20\n",
      "1099/1099 - 152s - loss: 0.4550 - accuracy: 0.8545 - val_loss: 1.3428 - val_accuracy: 0.8701\n",
      "Epoch 6/20\n",
      "1099/1099 - 194s - loss: 0.3871 - accuracy: 0.8755 - val_loss: 1.0443 - val_accuracy: 0.6982\n",
      "Epoch 7/20\n",
      "1099/1099 - 187s - loss: 0.3621 - accuracy: 0.8836 - val_loss: 0.4588 - val_accuracy: 0.9148\n",
      "Epoch 8/20\n",
      "1099/1099 - 178s - loss: 0.3335 - accuracy: 0.8920 - val_loss: 0.9639 - val_accuracy: 0.9047\n",
      "Epoch 9/20\n",
      "1099/1099 - 152s - loss: 0.2544 - accuracy: 0.9166 - val_loss: 0.4053 - val_accuracy: 0.9310\n",
      "Epoch 10/20\n",
      "1099/1099 - 152s - loss: 0.2191 - accuracy: 0.9283 - val_loss: 1.0949 - val_accuracy: 0.9335\n",
      "Epoch 11/20\n",
      "1099/1099 - 149s - loss: 0.1939 - accuracy: 0.9348 - val_loss: 0.7800 - val_accuracy: 0.8915\n"
     ]
    }
   ],
   "source": [
    "history=model.fit(training_ds,validation_data=validing_ds,epochs=20,callbacks=[callbacks],verbose=2)"
   ]
  },
  {
   "cell_type": "code",
   "execution_count": 14,
   "id": "committed-input",
   "metadata": {
    "execution": {
     "iopub.execute_input": "2021-05-03T20:04:57.965107Z",
     "iopub.status.busy": "2021-05-03T20:04:57.964275Z",
     "iopub.status.idle": "2021-05-03T20:05:28.147070Z",
     "shell.execute_reply": "2021-05-03T20:05:28.146441Z"
    },
    "papermill": {
     "duration": 30.214623,
     "end_time": "2021-05-03T20:05:28.147271",
     "exception": false,
     "start_time": "2021-05-03T20:04:57.932648",
     "status": "completed"
    },
    "tags": []
   },
   "outputs": [
    {
     "name": "stdout",
     "output_type": "stream",
     "text": [
      "275/275 [==============================] - 30s 108ms/step - loss: 1.3711 - accuracy: 0.5946\n",
      "Test Loss is 1.3710578680038452\n",
      "Test Accuracy is 0.5946391820907593\n"
     ]
    }
   ],
   "source": [
    "ModelLoss, ModelAccuracy = model.evaluate(validing_ds)\n",
    "print('Test Loss is {}'.format(ModelLoss))\n",
    "print('Test Accuracy is {}'.format(ModelAccuracy ))"
   ]
  },
  {
   "cell_type": "code",
   "execution_count": 15,
   "id": "future-uganda",
   "metadata": {
    "execution": {
     "iopub.execute_input": "2021-05-03T20:05:28.326100Z",
     "iopub.status.busy": "2021-05-03T20:05:28.325123Z",
     "iopub.status.idle": "2021-05-03T20:05:29.508745Z",
     "shell.execute_reply": "2021-05-03T20:05:29.508145Z"
    },
    "papermill": {
     "duration": 1.273727,
     "end_time": "2021-05-03T20:05:29.508879",
     "exception": false,
     "start_time": "2021-05-03T20:05:28.235152",
     "status": "completed"
    },
    "tags": []
   },
   "outputs": [],
   "source": [
    "y_pred=model.predict(X_test)"
   ]
  },
  {
   "cell_type": "code",
   "execution_count": 16,
   "id": "false-apollo",
   "metadata": {
    "execution": {
     "iopub.execute_input": "2021-05-03T20:05:29.686603Z",
     "iopub.status.busy": "2021-05-03T20:05:29.685868Z",
     "iopub.status.idle": "2021-05-03T20:05:29.688717Z",
     "shell.execute_reply": "2021-05-03T20:05:29.688293Z"
    },
    "papermill": {
     "duration": 0.092779,
     "end_time": "2021-05-03T20:05:29.688825",
     "exception": false,
     "start_time": "2021-05-03T20:05:29.596046",
     "status": "completed"
    },
    "tags": []
   },
   "outputs": [],
   "source": [
    "Y_pred=y_pred.argmax()"
   ]
  },
  {
   "cell_type": "code",
   "execution_count": null,
   "id": "guilty-vision",
   "metadata": {
    "papermill": {
     "duration": 0.086171,
     "end_time": "2021-05-03T20:05:29.860922",
     "exception": false,
     "start_time": "2021-05-03T20:05:29.774751",
     "status": "completed"
    },
    "tags": []
   },
   "outputs": [],
   "source": []
  },
  {
   "cell_type": "code",
   "execution_count": 17,
   "id": "greenhouse-kingdom",
   "metadata": {
    "execution": {
     "iopub.execute_input": "2021-05-03T20:05:30.052120Z",
     "iopub.status.busy": "2021-05-03T20:05:30.051478Z",
     "iopub.status.idle": "2021-05-03T20:05:30.204127Z",
     "shell.execute_reply": "2021-05-03T20:05:30.203706Z"
    },
    "papermill": {
     "duration": 0.257163,
     "end_time": "2021-05-03T20:05:30.204242",
     "exception": false,
     "start_time": "2021-05-03T20:05:29.947079",
     "status": "completed"
    },
    "tags": []
   },
   "outputs": [
    {
     "data": {
      "text/plain": [
       "<matplotlib.legend.Legend at 0x7f30dc466e90>"
      ]
     },
     "execution_count": 17,
     "metadata": {},
     "output_type": "execute_result"
    },
    {
     "data": {
      "image/png": "[encoded data removed]",
      "text/plain": [
       "<Figure size 432x288 with 1 Axes>"
      ]
     },
     "metadata": {
      "needs_background": "light"
     },
     "output_type": "display_data"
    }
   ],
   "source": [
    "plt.plot(history.history['val_loss'],label='validation loss')\n",
    "plt.plot(history.history['val_accuracy'],label='validation accuracy')\n",
    "plt.legend()"
   ]
  }
 ],
 "metadata": {
  "kernelspec": {
   "display_name": "Python 3",
   "language": "python",
   "name": "python3"
  },
  "language_info": {
   "codemirror_mode": {
    "name": "ipython",
    "version": 3
   },
   "file_extension": ".py",
   "mimetype": "text/x-python",
   "name": "python",
   "nbconvert_exporter": "python",
   "pygments_lexer": "ipython3",
   "version": "3.7.10"
  },
  "papermill": {
   "default_parameters": {},
   "duration": 2300.300241,
   "end_time": "2021-05-03T20:05:33.861901",
   "environment_variables": {},
   "exception": null,
   "input_path": "__notebook__.ipynb",
   "output_path": "__notebook__.ipynb",
   "parameters": {},
   "start_time": "2021-05-03T19:27:13.561660",
   "version": "2.3.3"
  }
 },
 "nbformat": 4,
 "nbformat_minor": 5
}
